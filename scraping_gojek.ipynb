{
 "cells": [
  {
   "cell_type": "code",
   "execution_count": 269,
   "metadata": {},
   "outputs": [],
   "source": [
    "from google_play_scraper import Sort, reviews\n",
    "from app_store_scraper import AppStore\n",
    "import pandas as pd\n",
    "import numpy as np"
   ]
  },
  {
   "cell_type": "code",
   "execution_count": 270,
   "metadata": {},
   "outputs": [
    {
     "name": "stderr",
     "output_type": "stream",
     "text": [
      "2024-11-29 18:25:12,671 [INFO] Base - Initialised: AppStore('id', 'gojek', 944875099)\n",
      "2024-11-29 18:25:12,672 [INFO] Base - Ready to fetch reviews from: https://apps.apple.com/id/app/gojek/id944875099\n",
      "2024-11-29 18:25:18,091 [INFO] Base - [id:944875099] Fetched 140 reviews (140 fetched in total)\n",
      "2024-11-29 18:25:24,181 [INFO] Base - [id:944875099] Fetched 300 reviews (300 fetched in total)\n",
      "2024-11-29 18:25:30,356 [INFO] Base - [id:944875099] Fetched 460 reviews (460 fetched in total)\n",
      "2024-11-29 18:25:36,702 [INFO] Base - [id:944875099] Fetched 620 reviews (620 fetched in total)\n",
      "2024-11-29 18:25:42,544 [INFO] Base - [id:944875099] Fetched 760 reviews (760 fetched in total)\n",
      "2024-11-29 18:25:48,757 [INFO] Base - [id:944875099] Fetched 920 reviews (920 fetched in total)\n",
      "2024-11-29 18:25:55,252 [INFO] Base - [id:944875099] Fetched 1080 reviews (1080 fetched in total)\n",
      "2024-11-29 18:26:01,574 [INFO] Base - [id:944875099] Fetched 1240 reviews (1240 fetched in total)\n",
      "2024-11-29 18:26:07,841 [INFO] Base - [id:944875099] Fetched 1400 reviews (1400 fetched in total)\n",
      "2024-11-29 18:26:14,102 [INFO] Base - [id:944875099] Fetched 1580 reviews (1580 fetched in total)\n",
      "2024-11-29 18:26:20,293 [INFO] Base - [id:944875099] Fetched 1760 reviews (1760 fetched in total)\n",
      "2024-11-29 18:26:26,207 [INFO] Base - [id:944875099] Fetched 1920 reviews (1920 fetched in total)\n",
      "2024-11-29 18:26:32,529 [INFO] Base - [id:944875099] Fetched 2080 reviews (2080 fetched in total)\n",
      "2024-11-29 18:26:38,671 [INFO] Base - [id:944875099] Fetched 2240 reviews (2240 fetched in total)\n",
      "2024-11-29 18:26:44,776 [INFO] Base - [id:944875099] Fetched 2400 reviews (2400 fetched in total)\n",
      "2024-11-29 18:26:50,772 [INFO] Base - [id:944875099] Fetched 2560 reviews (2560 fetched in total)\n",
      "2024-11-29 18:26:56,705 [INFO] Base - [id:944875099] Fetched 2720 reviews (2720 fetched in total)\n",
      "2024-11-29 18:27:02,851 [INFO] Base - [id:944875099] Fetched 2880 reviews (2880 fetched in total)\n",
      "2024-11-29 18:27:09,087 [INFO] Base - [id:944875099] Fetched 3040 reviews (3040 fetched in total)\n",
      "2024-11-29 18:27:15,319 [INFO] Base - [id:944875099] Fetched 3200 reviews (3200 fetched in total)\n",
      "2024-11-29 18:27:21,492 [INFO] Base - [id:944875099] Fetched 3360 reviews (3360 fetched in total)\n",
      "2024-11-29 18:27:27,396 [INFO] Base - [id:944875099] Fetched 3520 reviews (3520 fetched in total)\n",
      "2024-11-29 18:27:33,905 [INFO] Base - [id:944875099] Fetched 3680 reviews (3680 fetched in total)\n",
      "2024-11-29 18:27:39,871 [INFO] Base - [id:944875099] Fetched 3840 reviews (3840 fetched in total)\n",
      "2024-11-29 18:27:45,818 [INFO] Base - [id:944875099] Fetched 4000 reviews (4000 fetched in total)\n",
      "2024-11-29 18:27:51,572 [INFO] Base - [id:944875099] Fetched 4160 reviews (4160 fetched in total)\n",
      "2024-11-29 18:27:57,908 [INFO] Base - [id:944875099] Fetched 4340 reviews (4340 fetched in total)\n",
      "2024-11-29 18:28:03,836 [INFO] Base - [id:944875099] Fetched 4500 reviews (4500 fetched in total)\n",
      "2024-11-29 18:28:09,887 [INFO] Base - [id:944875099] Fetched 4660 reviews (4660 fetched in total)\n",
      "2024-11-29 18:28:15,846 [INFO] Base - [id:944875099] Fetched 4820 reviews (4820 fetched in total)\n",
      "2024-11-29 18:28:21,939 [INFO] Base - [id:944875099] Fetched 4980 reviews (4980 fetched in total)\n",
      "2024-11-29 18:28:22,700 [INFO] Base - [id:944875099] Fetched 5000 reviews (5000 fetched in total)\n"
     ]
    }
   ],
   "source": [
    "g_reviews, continuation_token = reviews(\n",
    "    'com.gojek.app',\n",
    "    lang='id',\n",
    "    country='id',\n",
    "    sort=Sort.NEWEST,\n",
    "    count=5000,\n",
    ")\n",
    "a_reviews = AppStore('id', 'gojek', '944875099')\n",
    "a_reviews.review(5000)"
   ]
  },
  {
   "cell_type": "code",
   "execution_count": 271,
   "metadata": {},
   "outputs": [],
   "source": [
    "g_df = pd.DataFrame(np.array(g_reviews),columns=['review'])\n",
    "g_df2 = g_df.join(pd.DataFrame(g_df.pop('review').tolist()))\n",
    "a_df = pd.DataFrame(np.array(a_reviews.reviews),columns=['review'])\n",
    "a_df2 = a_df.join(pd.DataFrame(a_df.pop('review').tolist()))"
   ]
  },
  {
   "cell_type": "code",
   "execution_count": 272,
   "metadata": {},
   "outputs": [],
   "source": [
    "g_df2.drop(columns={'userImage', 'reviewCreatedVersion', 'replyContent', 'repliedAt', 'thumbsUpCount', 'appVersion'},inplace = True)\n",
    "g_df2.rename(columns= {'score': 'rating','userName': 'pengguna', 'reviewId': 'id_ulasan', 'content': 'ulasan', 'at': 'tanggal'},inplace = True)\n",
    "g_df2.insert(loc=0, column='source', value='Google Play')"
   ]
  },
  {
   "cell_type": "code",
   "execution_count": 274,
   "metadata": {},
   "outputs": [],
   "source": [
    "a_df2.drop(columns={'isEdited', 'title', 'developerResponse'},inplace = True)\n",
    "a_df2.insert(loc=0, column='source', value='App Store')\n",
    "a_df2.insert(loc=1, column='id_ulasan', value=[uuid.uuid4() for _ in range(len(a_df2.index))])\n",
    "a_df2.rename(columns= {'review': 'ulasan','userName': 'pengguna', 'date': 'tanggal'},inplace = True)\n",
    "a_df2 = a_df2.where(pd.notnull(a_df2), None)"
   ]
  },
  {
   "cell_type": "code",
   "execution_count": null,
   "metadata": {},
   "outputs": [],
   "source": [
    "result = pd.concat([g_df2,a_df2])\n",
    "result.to_csv('gojek_10k_test.csv')"
   ]
  }
 ],
 "metadata": {
  "kernelspec": {
   "display_name": ".venv",
   "language": "python",
   "name": "python3"
  },
  "language_info": {
   "codemirror_mode": {
    "name": "ipython",
    "version": 3
   },
   "file_extension": ".py",
   "mimetype": "text/x-python",
   "name": "python",
   "nbconvert_exporter": "python",
   "pygments_lexer": "ipython3",
   "version": "3.13.0"
  }
 },
 "nbformat": 4,
 "nbformat_minor": 2
}
